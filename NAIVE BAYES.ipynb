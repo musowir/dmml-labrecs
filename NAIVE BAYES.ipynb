{
 "cells": [
  {
   "cell_type": "markdown",
   "id": "960cccf9",
   "metadata": {},
   "source": [
    "# Naive Bayes\n",
    "\n",
    "Date: 05/07/2022\n",
    "\n",
    "Aim : To implement Naive Bayes classifier using any standard dataset available in the public domain and find the accuracy of the algorithm."
   ]
  },
  {
   "cell_type": "markdown",
   "id": "e129318b",
   "metadata": {},
   "source": [
    " "
   ]
  },
  {
   "cell_type": "markdown",
   "id": "139fd441",
   "metadata": {},
   "source": [
    "Algorithm : \n",
    "    \n",
    "Step 1:start \n",
    "\n",
    "Step 2: Importing the standard libraries. \n",
    "\n",
    "Step 3:Load the iris dataset-iris.csv The iris dataset contains the following data 50 samples of 3 different species of iris (150 samples total) Measurements: sepal length, sepal width, petal length, petal width The format for the data: (sepal length, sepal width, petal length, petal width)\n",
    "\n",
    "Step 4:Define x and y and label the fields.\n",
    "\n",
    "Step 5:Split the dtatset into Training and testing\n",
    "\n",
    "Step 6:preprocess the dataset using StandardScaler StandardScaler removes the mean and scales each feature/variable to unit variance \n",
    "\n",
    "Step 7:Train the data using GuassianNB model \n",
    "\n",
    "Step 8:Test the data using Test set \n",
    "\n",
    "Step 9:Create the confusion matrix and Find the accuracy \n",
    "\n",
    "Step 10:Stop"
   ]
  },
  {
   "cell_type": "raw",
   "id": "b9084a85",
   "metadata": {},
   "source": [
    "Program ::"
   ]
  },
  {
   "cell_type": "code",
   "execution_count": null,
   "id": "9ff926a0",
   "metadata": {
    "id": "xJbUcCkI5MZg"
   },
   "outputs": [],
   "source": [
    "import pandas as pd\n",
    "df=pd.read_csv(\"//content/drive/MyDrive/Colab Notebooks/Surgical-deepnet.csv\")"
   ]
  },
  {
   "cell_type": "code",
   "execution_count": null,
   "id": "8bc2d71c",
   "metadata": {
    "colab": {
     "base_uri": "https://localhost:8080/",
     "height": 488
    },
    "id": "cOQymAtf54mV",
    "outputId": "d10ff600-cb32-418d-cc59-276c7f543ce7"
   },
   "outputs": [
    {
     "data": {
      "text/html": [
       "\n",
       "  <div id=\"df-4a8e5e54-a45a-4d74-9e90-43c45658fa54\">\n",
       "    <div class=\"colab-df-container\">\n",
       "      <div>\n",
       "<style scoped>\n",
       "    .dataframe tbody tr th:only-of-type {\n",
       "        vertical-align: middle;\n",
       "    }\n",
       "\n",
       "    .dataframe tbody tr th {\n",
       "        vertical-align: top;\n",
       "    }\n",
       "\n",
       "    .dataframe thead th {\n",
       "        text-align: right;\n",
       "    }\n",
       "</style>\n",
       "<table border=\"1\" class=\"dataframe\">\n",
       "  <thead>\n",
       "    <tr style=\"text-align: right;\">\n",
       "      <th></th>\n",
       "      <th>bmi</th>\n",
       "      <th>Age</th>\n",
       "      <th>asa_status</th>\n",
       "      <th>baseline_cancer</th>\n",
       "      <th>baseline_charlson</th>\n",
       "      <th>baseline_cvd</th>\n",
       "      <th>baseline_dementia</th>\n",
       "      <th>baseline_diabetes</th>\n",
       "      <th>baseline_digestive</th>\n",
       "      <th>baseline_osteoart</th>\n",
       "      <th>...</th>\n",
       "      <th>complication_rsi</th>\n",
       "      <th>dow</th>\n",
       "      <th>gender</th>\n",
       "      <th>hour</th>\n",
       "      <th>month</th>\n",
       "      <th>moonphase</th>\n",
       "      <th>mort30</th>\n",
       "      <th>mortality_rsi</th>\n",
       "      <th>race</th>\n",
       "      <th>complication</th>\n",
       "    </tr>\n",
       "  </thead>\n",
       "  <tbody>\n",
       "    <tr>\n",
       "      <th>0</th>\n",
       "      <td>19.31</td>\n",
       "      <td>59.2</td>\n",
       "      <td>1</td>\n",
       "      <td>1</td>\n",
       "      <td>0</td>\n",
       "      <td>0</td>\n",
       "      <td>0</td>\n",
       "      <td>0</td>\n",
       "      <td>0</td>\n",
       "      <td>0</td>\n",
       "      <td>...</td>\n",
       "      <td>-0.57</td>\n",
       "      <td>3</td>\n",
       "      <td>0</td>\n",
       "      <td>7.63</td>\n",
       "      <td>6</td>\n",
       "      <td>1</td>\n",
       "      <td>0</td>\n",
       "      <td>-0.43</td>\n",
       "      <td>1</td>\n",
       "      <td>0</td>\n",
       "    </tr>\n",
       "    <tr>\n",
       "      <th>1</th>\n",
       "      <td>18.73</td>\n",
       "      <td>59.1</td>\n",
       "      <td>0</td>\n",
       "      <td>0</td>\n",
       "      <td>0</td>\n",
       "      <td>0</td>\n",
       "      <td>0</td>\n",
       "      <td>0</td>\n",
       "      <td>0</td>\n",
       "      <td>0</td>\n",
       "      <td>...</td>\n",
       "      <td>0.21</td>\n",
       "      <td>0</td>\n",
       "      <td>0</td>\n",
       "      <td>12.93</td>\n",
       "      <td>0</td>\n",
       "      <td>1</td>\n",
       "      <td>0</td>\n",
       "      <td>-0.41</td>\n",
       "      <td>1</td>\n",
       "      <td>0</td>\n",
       "    </tr>\n",
       "    <tr>\n",
       "      <th>2</th>\n",
       "      <td>21.85</td>\n",
       "      <td>59.0</td>\n",
       "      <td>0</td>\n",
       "      <td>0</td>\n",
       "      <td>0</td>\n",
       "      <td>0</td>\n",
       "      <td>0</td>\n",
       "      <td>0</td>\n",
       "      <td>0</td>\n",
       "      <td>0</td>\n",
       "      <td>...</td>\n",
       "      <td>0.00</td>\n",
       "      <td>2</td>\n",
       "      <td>0</td>\n",
       "      <td>7.68</td>\n",
       "      <td>5</td>\n",
       "      <td>3</td>\n",
       "      <td>0</td>\n",
       "      <td>0.08</td>\n",
       "      <td>1</td>\n",
       "      <td>0</td>\n",
       "    </tr>\n",
       "    <tr>\n",
       "      <th>3</th>\n",
       "      <td>18.49</td>\n",
       "      <td>59.0</td>\n",
       "      <td>1</td>\n",
       "      <td>0</td>\n",
       "      <td>1</td>\n",
       "      <td>0</td>\n",
       "      <td>0</td>\n",
       "      <td>1</td>\n",
       "      <td>1</td>\n",
       "      <td>0</td>\n",
       "      <td>...</td>\n",
       "      <td>-0.65</td>\n",
       "      <td>2</td>\n",
       "      <td>1</td>\n",
       "      <td>7.58</td>\n",
       "      <td>4</td>\n",
       "      <td>3</td>\n",
       "      <td>0</td>\n",
       "      <td>-0.32</td>\n",
       "      <td>1</td>\n",
       "      <td>0</td>\n",
       "    </tr>\n",
       "    <tr>\n",
       "      <th>4</th>\n",
       "      <td>19.70</td>\n",
       "      <td>59.0</td>\n",
       "      <td>1</td>\n",
       "      <td>0</td>\n",
       "      <td>0</td>\n",
       "      <td>0</td>\n",
       "      <td>0</td>\n",
       "      <td>0</td>\n",
       "      <td>0</td>\n",
       "      <td>0</td>\n",
       "      <td>...</td>\n",
       "      <td>0.00</td>\n",
       "      <td>0</td>\n",
       "      <td>0</td>\n",
       "      <td>7.88</td>\n",
       "      <td>11</td>\n",
       "      <td>0</td>\n",
       "      <td>0</td>\n",
       "      <td>0.00</td>\n",
       "      <td>1</td>\n",
       "      <td>0</td>\n",
       "    </tr>\n",
       "    <tr>\n",
       "      <th>...</th>\n",
       "      <td>...</td>\n",
       "      <td>...</td>\n",
       "      <td>...</td>\n",
       "      <td>...</td>\n",
       "      <td>...</td>\n",
       "      <td>...</td>\n",
       "      <td>...</td>\n",
       "      <td>...</td>\n",
       "      <td>...</td>\n",
       "      <td>...</td>\n",
       "      <td>...</td>\n",
       "      <td>...</td>\n",
       "      <td>...</td>\n",
       "      <td>...</td>\n",
       "      <td>...</td>\n",
       "      <td>...</td>\n",
       "      <td>...</td>\n",
       "      <td>...</td>\n",
       "      <td>...</td>\n",
       "      <td>...</td>\n",
       "      <td>...</td>\n",
       "    </tr>\n",
       "    <tr>\n",
       "      <th>14630</th>\n",
       "      <td>18.79</td>\n",
       "      <td>14.1</td>\n",
       "      <td>1</td>\n",
       "      <td>0</td>\n",
       "      <td>1</td>\n",
       "      <td>0</td>\n",
       "      <td>0</td>\n",
       "      <td>0</td>\n",
       "      <td>0</td>\n",
       "      <td>0</td>\n",
       "      <td>...</td>\n",
       "      <td>-0.54</td>\n",
       "      <td>1</td>\n",
       "      <td>0</td>\n",
       "      <td>7.78</td>\n",
       "      <td>0</td>\n",
       "      <td>1</td>\n",
       "      <td>0</td>\n",
       "      <td>-0.16</td>\n",
       "      <td>1</td>\n",
       "      <td>1</td>\n",
       "    </tr>\n",
       "    <tr>\n",
       "      <th>14631</th>\n",
       "      <td>19.65</td>\n",
       "      <td>12.6</td>\n",
       "      <td>0</td>\n",
       "      <td>0</td>\n",
       "      <td>0</td>\n",
       "      <td>0</td>\n",
       "      <td>0</td>\n",
       "      <td>0</td>\n",
       "      <td>0</td>\n",
       "      <td>0</td>\n",
       "      <td>...</td>\n",
       "      <td>-1.42</td>\n",
       "      <td>4</td>\n",
       "      <td>0</td>\n",
       "      <td>8.40</td>\n",
       "      <td>6</td>\n",
       "      <td>1</td>\n",
       "      <td>0</td>\n",
       "      <td>-0.77</td>\n",
       "      <td>1</td>\n",
       "      <td>1</td>\n",
       "    </tr>\n",
       "    <tr>\n",
       "      <th>14632</th>\n",
       "      <td>14.84</td>\n",
       "      <td>12.6</td>\n",
       "      <td>1</td>\n",
       "      <td>0</td>\n",
       "      <td>0</td>\n",
       "      <td>0</td>\n",
       "      <td>0</td>\n",
       "      <td>0</td>\n",
       "      <td>0</td>\n",
       "      <td>0</td>\n",
       "      <td>...</td>\n",
       "      <td>0.65</td>\n",
       "      <td>0</td>\n",
       "      <td>0</td>\n",
       "      <td>13.25</td>\n",
       "      <td>3</td>\n",
       "      <td>3</td>\n",
       "      <td>0</td>\n",
       "      <td>0.99</td>\n",
       "      <td>1</td>\n",
       "      <td>1</td>\n",
       "    </tr>\n",
       "    <tr>\n",
       "      <th>14633</th>\n",
       "      <td>17.75</td>\n",
       "      <td>8.9</td>\n",
       "      <td>0</td>\n",
       "      <td>0</td>\n",
       "      <td>1</td>\n",
       "      <td>0</td>\n",
       "      <td>0</td>\n",
       "      <td>0</td>\n",
       "      <td>1</td>\n",
       "      <td>0</td>\n",
       "      <td>...</td>\n",
       "      <td>-0.50</td>\n",
       "      <td>0</td>\n",
       "      <td>1</td>\n",
       "      <td>8.30</td>\n",
       "      <td>5</td>\n",
       "      <td>0</td>\n",
       "      <td>0</td>\n",
       "      <td>0.17</td>\n",
       "      <td>1</td>\n",
       "      <td>1</td>\n",
       "    </tr>\n",
       "    <tr>\n",
       "      <th>14634</th>\n",
       "      <td>14.40</td>\n",
       "      <td>6.1</td>\n",
       "      <td>1</td>\n",
       "      <td>0</td>\n",
       "      <td>1</td>\n",
       "      <td>0</td>\n",
       "      <td>0</td>\n",
       "      <td>0</td>\n",
       "      <td>1</td>\n",
       "      <td>0</td>\n",
       "      <td>...</td>\n",
       "      <td>0.78</td>\n",
       "      <td>2</td>\n",
       "      <td>0</td>\n",
       "      <td>7.65</td>\n",
       "      <td>4</td>\n",
       "      <td>1</td>\n",
       "      <td>0</td>\n",
       "      <td>1.06</td>\n",
       "      <td>0</td>\n",
       "      <td>1</td>\n",
       "    </tr>\n",
       "  </tbody>\n",
       "</table>\n",
       "<p>14635 rows × 25 columns</p>\n",
       "</div>\n",
       "      <button class=\"colab-df-convert\" onclick=\"convertToInteractive('df-4a8e5e54-a45a-4d74-9e90-43c45658fa54')\"\n",
       "              title=\"Convert this dataframe to an interactive table.\"\n",
       "              style=\"display:none;\">\n",
       "        \n",
       "  <svg xmlns=\"http://www.w3.org/2000/svg\" height=\"24px\"viewBox=\"0 0 24 24\"\n",
       "       width=\"24px\">\n",
       "    <path d=\"M0 0h24v24H0V0z\" fill=\"none\"/>\n",
       "    <path d=\"M18.56 5.44l.94 2.06.94-2.06 2.06-.94-2.06-.94-.94-2.06-.94 2.06-2.06.94zm-11 1L8.5 8.5l.94-2.06 2.06-.94-2.06-.94L8.5 2.5l-.94 2.06-2.06.94zm10 10l.94 2.06.94-2.06 2.06-.94-2.06-.94-.94-2.06-.94 2.06-2.06.94z\"/><path d=\"M17.41 7.96l-1.37-1.37c-.4-.4-.92-.59-1.43-.59-.52 0-1.04.2-1.43.59L10.3 9.45l-7.72 7.72c-.78.78-.78 2.05 0 2.83L4 21.41c.39.39.9.59 1.41.59.51 0 1.02-.2 1.41-.59l7.78-7.78 2.81-2.81c.8-.78.8-2.07 0-2.86zM5.41 20L4 18.59l7.72-7.72 1.47 1.35L5.41 20z\"/>\n",
       "  </svg>\n",
       "      </button>\n",
       "      \n",
       "  <style>\n",
       "    .colab-df-container {\n",
       "      display:flex;\n",
       "      flex-wrap:wrap;\n",
       "      gap: 12px;\n",
       "    }\n",
       "\n",
       "    .colab-df-convert {\n",
       "      background-color: #E8F0FE;\n",
       "      border: none;\n",
       "      border-radius: 50%;\n",
       "      cursor: pointer;\n",
       "      display: none;\n",
       "      fill: #1967D2;\n",
       "      height: 32px;\n",
       "      padding: 0 0 0 0;\n",
       "      width: 32px;\n",
       "    }\n",
       "\n",
       "    .colab-df-convert:hover {\n",
       "      background-color: #E2EBFA;\n",
       "      box-shadow: 0px 1px 2px rgba(60, 64, 67, 0.3), 0px 1px 3px 1px rgba(60, 64, 67, 0.15);\n",
       "      fill: #174EA6;\n",
       "    }\n",
       "\n",
       "    [theme=dark] .colab-df-convert {\n",
       "      background-color: #3B4455;\n",
       "      fill: #D2E3FC;\n",
       "    }\n",
       "\n",
       "    [theme=dark] .colab-df-convert:hover {\n",
       "      background-color: #434B5C;\n",
       "      box-shadow: 0px 1px 3px 1px rgba(0, 0, 0, 0.15);\n",
       "      filter: drop-shadow(0px 1px 2px rgba(0, 0, 0, 0.3));\n",
       "      fill: #FFFFFF;\n",
       "    }\n",
       "  </style>\n",
       "\n",
       "      <script>\n",
       "        const buttonEl =\n",
       "          document.querySelector('#df-4a8e5e54-a45a-4d74-9e90-43c45658fa54 button.colab-df-convert');\n",
       "        buttonEl.style.display =\n",
       "          google.colab.kernel.accessAllowed ? 'block' : 'none';\n",
       "\n",
       "        async function convertToInteractive(key) {\n",
       "          const element = document.querySelector('#df-4a8e5e54-a45a-4d74-9e90-43c45658fa54');\n",
       "          const dataTable =\n",
       "            await google.colab.kernel.invokeFunction('convertToInteractive',\n",
       "                                                     [key], {});\n",
       "          if (!dataTable) return;\n",
       "\n",
       "          const docLinkHtml = 'Like what you see? Visit the ' +\n",
       "            '<a target=\"_blank\" href=https://colab.research.google.com/notebooks/data_table.ipynb>data table notebook</a>'\n",
       "            + ' to learn more about interactive tables.';\n",
       "          element.innerHTML = '';\n",
       "          dataTable['output_type'] = 'display_data';\n",
       "          await google.colab.output.renderOutput(dataTable, element);\n",
       "          const docLink = document.createElement('div');\n",
       "          docLink.innerHTML = docLinkHtml;\n",
       "          element.appendChild(docLink);\n",
       "        }\n",
       "      </script>\n",
       "    </div>\n",
       "  </div>\n",
       "  "
      ],
      "text/plain": [
       "         bmi   Age  asa_status  baseline_cancer  baseline_charlson  \\\n",
       "0      19.31  59.2           1                1                  0   \n",
       "1      18.73  59.1           0                0                  0   \n",
       "2      21.85  59.0           0                0                  0   \n",
       "3      18.49  59.0           1                0                  1   \n",
       "4      19.70  59.0           1                0                  0   \n",
       "...      ...   ...         ...              ...                ...   \n",
       "14630  18.79  14.1           1                0                  1   \n",
       "14631  19.65  12.6           0                0                  0   \n",
       "14632  14.84  12.6           1                0                  0   \n",
       "14633  17.75   8.9           0                0                  1   \n",
       "14634  14.40   6.1           1                0                  1   \n",
       "\n",
       "       baseline_cvd  baseline_dementia  baseline_diabetes  baseline_digestive  \\\n",
       "0                 0                  0                  0                   0   \n",
       "1                 0                  0                  0                   0   \n",
       "2                 0                  0                  0                   0   \n",
       "3                 0                  0                  1                   1   \n",
       "4                 0                  0                  0                   0   \n",
       "...             ...                ...                ...                 ...   \n",
       "14630             0                  0                  0                   0   \n",
       "14631             0                  0                  0                   0   \n",
       "14632             0                  0                  0                   0   \n",
       "14633             0                  0                  0                   1   \n",
       "14634             0                  0                  0                   1   \n",
       "\n",
       "       baseline_osteoart  ...  complication_rsi  dow  gender   hour  month  \\\n",
       "0                      0  ...             -0.57    3       0   7.63      6   \n",
       "1                      0  ...              0.21    0       0  12.93      0   \n",
       "2                      0  ...              0.00    2       0   7.68      5   \n",
       "3                      0  ...             -0.65    2       1   7.58      4   \n",
       "4                      0  ...              0.00    0       0   7.88     11   \n",
       "...                  ...  ...               ...  ...     ...    ...    ...   \n",
       "14630                  0  ...             -0.54    1       0   7.78      0   \n",
       "14631                  0  ...             -1.42    4       0   8.40      6   \n",
       "14632                  0  ...              0.65    0       0  13.25      3   \n",
       "14633                  0  ...             -0.50    0       1   8.30      5   \n",
       "14634                  0  ...              0.78    2       0   7.65      4   \n",
       "\n",
       "       moonphase  mort30  mortality_rsi  race  complication  \n",
       "0              1       0          -0.43     1             0  \n",
       "1              1       0          -0.41     1             0  \n",
       "2              3       0           0.08     1             0  \n",
       "3              3       0          -0.32     1             0  \n",
       "4              0       0           0.00     1             0  \n",
       "...          ...     ...            ...   ...           ...  \n",
       "14630          1       0          -0.16     1             1  \n",
       "14631          1       0          -0.77     1             1  \n",
       "14632          3       0           0.99     1             1  \n",
       "14633          0       0           0.17     1             1  \n",
       "14634          1       0           1.06     0             1  \n",
       "\n",
       "[14635 rows x 25 columns]"
      ]
     },
     "execution_count": 9,
     "metadata": {},
     "output_type": "execute_result"
    }
   ],
   "source": [
    "df"
   ]
  },
  {
   "cell_type": "code",
   "execution_count": null,
   "id": "5bb2206b",
   "metadata": {
    "colab": {
     "base_uri": "https://localhost:8080/"
    },
    "id": "XAwRAKcz6K0K",
    "outputId": "3fa1efaf-a39a-482a-c305-07f9872f2ca9"
   },
   "outputs": [
    {
     "data": {
      "text/plain": [
       "bmi                    0\n",
       "Age                    0\n",
       "asa_status             0\n",
       "baseline_cancer        0\n",
       "baseline_charlson      0\n",
       "baseline_cvd           0\n",
       "baseline_dementia      0\n",
       "baseline_diabetes      0\n",
       "baseline_digestive     0\n",
       "baseline_osteoart      0\n",
       "baseline_psych         0\n",
       "baseline_pulmonary     0\n",
       "ahrq_ccs               0\n",
       "ccsComplicationRate    0\n",
       "ccsMort30Rate          0\n",
       "complication_rsi       0\n",
       "dow                    0\n",
       "gender                 0\n",
       "hour                   0\n",
       "month                  0\n",
       "moonphase              0\n",
       "mort30                 0\n",
       "mortality_rsi          0\n",
       "race                   0\n",
       "complication           0\n",
       "dtype: int64"
      ]
     },
     "execution_count": 11,
     "metadata": {},
     "output_type": "execute_result"
    }
   ],
   "source": [
    "df.isnull().sum()"
   ]
  },
  {
   "cell_type": "code",
   "execution_count": null,
   "id": "26bf82d5",
   "metadata": {
    "colab": {
     "base_uri": "https://localhost:8080/"
    },
    "id": "9Exv128Z8yzL",
    "outputId": "bec6480e-6850-433e-84a1-63044dc3d8ad"
   },
   "outputs": [
    {
     "name": "stdout",
     "output_type": "stream",
     "text": [
      "<class 'pandas.core.frame.DataFrame'>\n",
      "RangeIndex: 14635 entries, 0 to 14634\n",
      "Data columns (total 25 columns):\n",
      " #   Column               Non-Null Count  Dtype  \n",
      "---  ------               --------------  -----  \n",
      " 0   bmi                  14635 non-null  float64\n",
      " 1   Age                  14635 non-null  float64\n",
      " 2   asa_status           14635 non-null  int64  \n",
      " 3   baseline_cancer      14635 non-null  int64  \n",
      " 4   baseline_charlson    14635 non-null  int64  \n",
      " 5   baseline_cvd         14635 non-null  int64  \n",
      " 6   baseline_dementia    14635 non-null  int64  \n",
      " 7   baseline_diabetes    14635 non-null  int64  \n",
      " 8   baseline_digestive   14635 non-null  int64  \n",
      " 9   baseline_osteoart    14635 non-null  int64  \n",
      " 10  baseline_psych       14635 non-null  int64  \n",
      " 11  baseline_pulmonary   14635 non-null  int64  \n",
      " 12  ahrq_ccs             14635 non-null  int64  \n",
      " 13  ccsComplicationRate  14635 non-null  float64\n",
      " 14  ccsMort30Rate        14635 non-null  float64\n",
      " 15  complication_rsi     14635 non-null  float64\n",
      " 16  dow                  14635 non-null  int64  \n",
      " 17  gender               14635 non-null  int64  \n",
      " 18  hour                 14635 non-null  float64\n",
      " 19  month                14635 non-null  int64  \n",
      " 20  moonphase            14635 non-null  int64  \n",
      " 21  mort30               14635 non-null  int64  \n",
      " 22  mortality_rsi        14635 non-null  float64\n",
      " 23  race                 14635 non-null  int64  \n",
      " 24  complication         14635 non-null  int64  \n",
      "dtypes: float64(7), int64(18)\n",
      "memory usage: 2.8 MB\n"
     ]
    }
   ],
   "source": [
    "df.info()"
   ]
  },
  {
   "cell_type": "code",
   "execution_count": null,
   "id": "5a25422f",
   "metadata": {
    "colab": {
     "base_uri": "https://localhost:8080/"
    },
    "id": "Vy2brPXY830z",
    "outputId": "691a29d1-c1ae-4053-8895-1131c4a8e9eb"
   },
   "outputs": [
    {
     "data": {
      "text/plain": [
       "array([0, 0, 0, ..., 1, 1, 1])"
      ]
     },
     "execution_count": 18,
     "metadata": {},
     "output_type": "execute_result"
    }
   ],
   "source": [
    "y=df['complication'].values\n",
    "y"
   ]
  },
  {
   "cell_type": "code",
   "execution_count": null,
   "id": "8fd9f950",
   "metadata": {
    "colab": {
     "base_uri": "https://localhost:8080/"
    },
    "id": "8-NheKKH9MR1",
    "outputId": "4a492d0f-1fb5-4cc0-ae04-cdfc10060c4d"
   },
   "outputs": [
    {
     "data": {
      "text/plain": [
       "array([[19.31, 59.2 ,  1.  , ...,  0.  , -0.43,  1.  ],\n",
       "       [18.73, 59.1 ,  0.  , ...,  0.  , -0.41,  1.  ],\n",
       "       [21.85, 59.  ,  0.  , ...,  0.  ,  0.08,  1.  ],\n",
       "       ...,\n",
       "       [14.84, 12.6 ,  1.  , ...,  0.  ,  0.99,  1.  ],\n",
       "       [17.75,  8.9 ,  0.  , ...,  0.  ,  0.17,  1.  ],\n",
       "       [14.4 ,  6.1 ,  1.  , ...,  0.  ,  1.06,  0.  ]])"
      ]
     },
     "execution_count": 24,
     "metadata": {},
     "output_type": "execute_result"
    }
   ],
   "source": [
    "x=(df.values)[:, :24]\n",
    "x"
   ]
  },
  {
   "cell_type": "code",
   "execution_count": null,
   "id": "25c267a4",
   "metadata": {
    "id": "YqZwYZY4-TdB"
   },
   "outputs": [],
   "source": [
    "from sklearn.model_selection import train_test_split\n",
    "x_train, x_test, y_train, y_test = train_test_split(x,y, train_size=.7, random_state=0)"
   ]
  },
  {
   "cell_type": "code",
   "execution_count": null,
   "id": "9aae3577",
   "metadata": {
    "colab": {
     "base_uri": "https://localhost:8080/"
    },
    "id": "vCpCZPLsB8kR",
    "outputId": "ead0df25-d77a-445d-caf5-501b163d26aa"
   },
   "outputs": [
    {
     "data": {
      "text/plain": [
       "0.7774994306536096"
      ]
     },
     "execution_count": 84,
     "metadata": {},
     "output_type": "execute_result"
    }
   ],
   "source": [
    "from sklearn.naive_bayes import GaussianNB\n",
    "nb_clf = GaussianNB()\n",
    "nb_clf.fit(x_train, y_train)\n",
    "nb_clf.score(x_test, y_test)"
   ]
  },
  {
   "cell_type": "code",
   "execution_count": null,
   "id": "3ed83092",
   "metadata": {
    "colab": {
     "base_uri": "https://localhost:8080/"
    },
    "id": "XfiZXZrAH49g",
    "outputId": "663e37c0-a173-407a-a29e-793fd6c4f51e"
   },
   "outputs": [
    {
     "data": {
      "text/plain": [
       "array([[2922,  372],\n",
       "       [ 605,  492]])"
      ]
     },
     "execution_count": 89,
     "metadata": {},
     "output_type": "execute_result"
    }
   ],
   "source": [
    "y_pred = nb_clf.predict(x_test)\n",
    "confusion_matrix(y_test, y_pred)"
   ]
  },
  {
   "cell_type": "code",
   "execution_count": null,
   "id": "3d2fa561",
   "metadata": {
    "colab": {
     "base_uri": "https://localhost:8080/"
    },
    "id": "tWjokUjIIFx4",
    "outputId": "acb8787c-c7c3-456d-eb47-a670f61dc99b"
   },
   "outputs": [
    {
     "name": "stdout",
     "output_type": "stream",
     "text": [
      "Precision: 0.44849589790337285\n",
      "Accuracy: 0.7774994306536096\n"
     ]
    }
   ],
   "source": [
    "tnfn, tpfp = confusion_matrix(y_test, y_pred)\n",
    "\n",
    "print(\"Precision:\",tpfp[1]/ sum(tpfp))\n",
    "print(\"Accuracy:\", (tpfp[1]+tnfn[0])/(sum(tnfn)+sum(tpfp)))"
   ]
  }
 ],
 "metadata": {
  "kernelspec": {
   "display_name": "Python 3 (ipykernel)",
   "language": "python",
   "name": "python3"
  },
  "language_info": {
   "codemirror_mode": {
    "name": "ipython",
    "version": 3
   },
   "file_extension": ".py",
   "mimetype": "text/x-python",
   "name": "python",
   "nbconvert_exporter": "python",
   "pygments_lexer": "ipython3",
   "version": "3.9.12"
  }
 },
 "nbformat": 4,
 "nbformat_minor": 5
}
