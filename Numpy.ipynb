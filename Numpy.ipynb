{
 "cells": [
  {
   "cell_type": "markdown",
   "metadata": {
    "id": "dCdo1QS5cKXy"
   },
   "source": [
    "# Numpy"
   ]
  },
  {
   "cell_type": "markdown",
   "metadata": {
    "id": "oFDp9ky-cNWs"
   },
   "source": [
    "Date: 12/04/2022"
   ]
  },
  {
   "cell_type": "markdown",
   "metadata": {
    "id": "bbnq8rI_cTnR"
   },
   "source": [
    "Aim: To familiarize with numpy arrays and built in methods provided."
   ]
  },
  {
   "cell_type": "markdown",
   "metadata": {
    "id": "nCwEfRBta1H0"
   },
   "source": [
    "1. Create a numpy array using a list of ten items."
   ]
  },
  {
   "cell_type": "code",
   "execution_count": null,
   "metadata": {
    "id": "NHcX11lSa1II",
    "outputId": "6763748c-d2dc-4a01-a373-c695845e377c"
   },
   "outputs": [
    {
     "name": "stdout",
     "output_type": "stream",
     "text": [
      "[ 1  2  3  4  5  6  7  8  9 10]\n"
     ]
    }
   ],
   "source": [
    "import numpy as np\n",
    "arr = np.array([1, 2, 3, 4, 5, 6, 7, 8, 9, 10])\n",
    "\n",
    "print(arr)"
   ]
  },
  {
   "cell_type": "markdown",
   "metadata": {
    "id": "Wd_TkNRMa1IO"
   },
   "source": [
    "2. Create a numpy arrays with different dimentions.\n",
    "\n",
    "    ◦ Print the dimentions.\n",
    "    \n",
    "    ◦ Access the elements from the arrays."
   ]
  },
  {
   "cell_type": "code",
   "execution_count": null,
   "metadata": {
    "id": "vHYvaX4Qa1IR",
    "outputId": "89e7cd1c-47e8-4134-864f-f39e610b846b"
   },
   "outputs": [
    {
     "name": "stdout",
     "output_type": "stream",
     "text": [
      "Dimention of a 1\n",
      "Dimention of b 2\n",
      "Dimention of c 3\n",
      "\n",
      "b[2][1] = 8\n",
      "c[0][0][2] = 3\n"
     ]
    }
   ],
   "source": [
    "a = np.array([1, 2, 3, 4, 5, 6])\n",
    "b = np.array([[1, 2, 3], [4, 5, 6], [7, 8, 9]])\n",
    "c = np.array([[[1, 2, 3], [2, 5, 8]], [[4, 5, 6], [2, 3, 5]]])\n",
    "print(\"Dimention of a\" , a.ndim)\n",
    "print(\"Dimention of b\" ,b.ndim)\n",
    "print(\"Dimention of c\" ,c.ndim)\n",
    "\n",
    "print(\"\\nb[2][1] =\", b[2][1])\n",
    "print(\"c[0][0][2] =\", c[0][0][2])"
   ]
  },
  {
   "cell_type": "markdown",
   "metadata": {
    "id": "RKd0RRjha1IT"
   },
   "source": [
    "3. Perform addition, multiplication and subtraction operations over any created numpy arrays."
   ]
  },
  {
   "cell_type": "code",
   "execution_count": null,
   "metadata": {
    "id": "C3iU8KGwa1IU",
    "outputId": "60674b23-3a16-4fbc-af09-6cfd610c3603"
   },
   "outputs": [
    {
     "name": "stdout",
     "output_type": "stream",
     "text": [
      "[ 6  7  8  9 10 11]\n",
      "[-9 -8 -7 -6 -5 -4]\n",
      "[0.5 1.  1.5 2.  2.5 3. ]\n",
      "[ 3  6  9 12 15 18]\n"
     ]
    }
   ],
   "source": [
    "print(a+5)\n",
    "print(a-10)\n",
    "print(a/2)\n",
    "print(a*3)"
   ]
  },
  {
   "cell_type": "markdown",
   "metadata": {
    "id": "bUu4bMaxa1IW"
   },
   "source": [
    "4. Discuss about arrange function in numpy with two examples."
   ]
  },
  {
   "cell_type": "markdown",
   "metadata": {
    "id": "x15Zc8U1a1IY"
   },
   "source": [
    "    The Numpy arange function generates a NumPy array with evenly spaced values based on the start and stops intervals specified upon declaration.\n",
    "\n",
    "    numpy.arange(\n",
    "             [start],\n",
    "              stop,\n",
    "             [step],\n",
    "             dtype=None\n",
    "            )"
   ]
  },
  {
   "cell_type": "code",
   "execution_count": null,
   "metadata": {
    "id": "q8T5UVNpa1Ib",
    "outputId": "794bb0ea-f32a-4129-cb50-03b94a0db82e"
   },
   "outputs": [
    {
     "name": "stdout",
     "output_type": "stream",
     "text": [
      "[2 3 4 5 6 7 8 9]\n"
     ]
    }
   ],
   "source": [
    "a = np.arange(2,10)\n",
    "print(a)"
   ]
  },
  {
   "cell_type": "code",
   "execution_count": null,
   "metadata": {
    "id": "sI9SYVLwa1Ie",
    "outputId": "33bb1f77-0c39-4cdf-edd7-2dce136fbdf4"
   },
   "outputs": [
    {
     "name": "stdout",
     "output_type": "stream",
     "text": [
      "[ 1. 10. 19. 28. 37. 46. 55. 64. 73.]\n"
     ]
    }
   ],
   "source": [
    "a = np.arange(1,80,9,dtype = \"float\")\n",
    "print(a)"
   ]
  },
  {
   "cell_type": "markdown",
   "metadata": {
    "id": "daXNcTFpa1If"
   },
   "source": [
    "5. Create a numpy array and perform square root and standard deviation on it."
   ]
  },
  {
   "cell_type": "code",
   "execution_count": null,
   "metadata": {
    "id": "wFWZh9y_a1Ig",
    "outputId": "bf6d7a47-96e8-4659-eee3-d7886efa4047"
   },
   "outputs": [
    {
     "name": "stdout",
     "output_type": "stream",
     "text": [
      "Square roots : [3.46410162 4.79583152 3.31662479 4.79583152 3.74165739 3.87298335\n",
      " 6.        ]\n",
      "Stadard Deviation: 8.236305888799757\n"
     ]
    }
   ],
   "source": [
    "d = np.array([12, 23, 11, 23, 14, 15, 36])\n",
    "SD = np.std(d)\n",
    "SQRT = np.sqrt(d)\n",
    "print(\"Square roots :\", SQRT)\n",
    "print(\"Stadard Deviation:\",SD)"
   ]
  },
  {
   "cell_type": "markdown",
   "metadata": {
    "id": "iVjRCPSPa1Ii"
   },
   "source": [
    "6. Build a 2-dimentional array and perform \n",
    "\n",
    "    ◦ column sum\n",
    "    \n",
    "    ◦ row sum\n",
    "    \n",
    "    ◦ column mean\n",
    "    \n",
    "    ◦ row mean"
   ]
  },
  {
   "cell_type": "code",
   "execution_count": null,
   "metadata": {
    "id": "_UyzIhcXa1Ik",
    "outputId": "71b2b872-6787-438b-830f-6f4429377600"
   },
   "outputs": [
    {
     "name": "stdout",
     "output_type": "stream",
     "text": [
      "Row sums:\n",
      "6\n",
      "15\n",
      "24\n",
      "\n",
      "Row Mean:\n",
      "2.0\n",
      "5.0\n",
      "8.0\n",
      "\n",
      "Column sums:\n",
      "12\n",
      "15\n",
      "18\n",
      "\n",
      "Column Mean:\n",
      "4.0\n",
      "5.0\n",
      "6.0\n"
     ]
    }
   ],
   "source": [
    "b = np.array([[1, 2, 3], [4, 5, 6], [7, 8, 9]])\n",
    "print(\"Row sums:\")\n",
    "for i in b:\n",
    "    print( np.sum(i))\n",
    "\n",
    "print(\"\\nRow Mean:\")\n",
    "for i in b:\n",
    "    print( np.mean(i))\n",
    "    \n",
    "b = np.transpose(b)\n",
    "\n",
    "print(\"\\nColumn sums:\")\n",
    "for i in b:\n",
    "    print( np.sum(i))\n",
    "\n",
    "print(\"\\nColumn Mean:\")\n",
    "for i in b:\n",
    "    print( np.mean(i))\n",
    "    \n",
    "b = np.transpose(b)"
   ]
  },
  {
   "cell_type": "markdown",
   "metadata": {
    "id": "KwduPy_Ta1Il"
   },
   "source": [
    "7. Generate arrays of zeros and ones with shape of (2,4)."
   ]
  },
  {
   "cell_type": "code",
   "execution_count": null,
   "metadata": {
    "id": "2oPXMUAta1Im",
    "outputId": "123b0a03-4edb-4406-9b99-8d0f3150eee6"
   },
   "outputs": [
    {
     "name": "stdout",
     "output_type": "stream",
     "text": [
      "[[0. 0. 0. 0.]\n",
      " [0. 0. 0. 0.]]\n",
      "\n",
      "\n",
      "[[1. 1. 1. 1.]\n",
      " [1. 1. 1. 1.]]\n"
     ]
    }
   ],
   "source": [
    "f = np.zeros((2, 4))\n",
    "print(f)\n",
    "print(\"\\n\")\n",
    "g = np.ones((2, 4))\n",
    "print(g)"
   ]
  },
  {
   "cell_type": "markdown",
   "metadata": {
    "id": "pEjMaXNOa1In"
   },
   "source": [
    "8. Create two numpy arrays and append data horizontally and vertically."
   ]
  },
  {
   "cell_type": "code",
   "execution_count": null,
   "metadata": {
    "id": "rKWVmxIxa1Io",
    "outputId": "5d5a8a88-abb7-423e-e3ac-50fe14dd3d53"
   },
   "outputs": [
    {
     "name": "stdout",
     "output_type": "stream",
     "text": [
      "[[1 2]\n",
      " [8 9]\n",
      " [4 5]]\n",
      "\n",
      " [[1 2 4]\n",
      " [8 9 5]\n",
      " [4 5 6]]\n"
     ]
    }
   ],
   "source": [
    "h  = np.array([[1,2],[8,9]])\n",
    "i = np.array([4, 5, 6])\n",
    "\n",
    "j = np.vstack((h, i[:-1]))\n",
    "print(j)\n",
    "\n",
    "k = np.hstack((j, i[:, None]))\n",
    "print(\"\\n\", k)"
   ]
  },
  {
   "cell_type": "markdown",
   "metadata": {
    "id": "DyNgVAUGa1Iq"
   },
   "source": [
    "9. Build two numpy array and perform the following\n",
    "    \n",
    "    ◦ search for an element in the array.\n",
    "    \n",
    "    ◦ Join the two arrays.\n",
    "    \n",
    "    ◦ Sort the elements in the array\n",
    "    \n",
    "    ◦ Broadcast the value 10 in 1 to 5 array index positions."
   ]
  },
  {
   "cell_type": "code",
   "execution_count": null,
   "metadata": {
    "id": "kRY5r1Dxa1Ir",
    "outputId": "ea307ec1-6402-4482-e9f2-7cf8deb68128"
   },
   "outputs": [
    {
     "name": "stdout",
     "output_type": "stream",
     "text": [
      "14 found at [4]\n",
      "\n",
      "Joined array: [12 23 11 23 14 15 36  9 10 45  3  2 20]\n",
      "\n",
      "Sorted array: [ 2  3  9 10 11 12 14 15 20 23 23 36 45]\n",
      "\n",
      "After Broadcast: [ 2 10 10 10 10 12 14 15 20 23 23 36 45]\n"
     ]
    }
   ],
   "source": [
    "l = np.array([12, 23, 11, 23, 14, 15, 36])\n",
    "m = np.array([9, 10, 45, 3, 2, 20])\n",
    "x= 14\n",
    "i = np.where(l==x)\n",
    "print(x, \"found at {}\".format(i[0]))\n",
    "\n",
    "n = np.append(l,m)\n",
    "print(\"\\nJoined array:\", n)\n",
    "\n",
    "n = np.sort(n)\n",
    "print(\"\\nSorted array:\", n)\n",
    "\n",
    "n[1:5]=10\n",
    "print(\"\\nAfter Broadcast:\", n)"
   ]
  },
  {
   "cell_type": "markdown",
   "metadata": {
    "id": "3DYpjkQua1It"
   },
   "source": [
    "10. Generate\n",
    "  \n",
    "  ◦ one dimentional array with 5 random integers from 10 to 50\n",
    "  \n",
    "  ◦ two dimetional array with 4 rows, each row containing 3 random integers from 5 to 10"
   ]
  },
  {
   "cell_type": "code",
   "execution_count": null,
   "metadata": {
    "id": "jFufycw7a1Iu",
    "outputId": "fbebe53a-e823-41db-959a-745a99f3e0c9"
   },
   "outputs": [
    {
     "name": "stdout",
     "output_type": "stream",
     "text": [
      "[47 29 15 41 14 18]\n"
     ]
    }
   ],
   "source": [
    "from numpy import random\n",
    "x=random.randint(10, 50, size=(6))\n",
    "print(x)"
   ]
  },
  {
   "cell_type": "code",
   "execution_count": null,
   "metadata": {
    "id": "H6ZFh0-2a1Iv",
    "outputId": "e2c928f4-dbb0-4dcc-9566-f530ba15172b"
   },
   "outputs": [
    {
     "name": "stdout",
     "output_type": "stream",
     "text": [
      "[[5 8 6]\n",
      " [6 5 9]\n",
      " [8 8 9]\n",
      " [9 5 7]]\n"
     ]
    }
   ],
   "source": [
    "x=random.randint(5, 10, size=(4,3))\n",
    "print(x)"
   ]
  }
 ],
 "metadata": {
  "colab": {
   "name": "Numpy Assignment.ipynb",
   "provenance": []
  },
  "kernelspec": {
   "display_name": "Python 3 (ipykernel)",
   "language": "python",
   "name": "python3"
  },
  "language_info": {
   "codemirror_mode": {
    "name": "ipython",
    "version": 3
   },
   "file_extension": ".py",
   "mimetype": "text/x-python",
   "name": "python",
   "nbconvert_exporter": "python",
   "pygments_lexer": "ipython3",
   "version": "3.9.12"
  }
 },
 "nbformat": 4,
 "nbformat_minor": 1
}
